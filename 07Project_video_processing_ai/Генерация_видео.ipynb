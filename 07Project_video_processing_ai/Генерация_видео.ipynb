{
  "nbformat": 4,
  "nbformat_minor": 0,
  "metadata": {
    "colab": {
      "provenance": [],
      "include_colab_link": true
    },
    "kernelspec": {
      "name": "python3",
      "display_name": "Python 3"
    },
    "language_info": {
      "name": "python"
    }
  },
  "cells": [
    {
      "cell_type": "markdown",
      "metadata": {
        "id": "view-in-github",
        "colab_type": "text"
      },
      "source": [
        "<a href=\"https://colab.research.google.com/github/ZerocoderUniversity/AI-course-prompt-engineering/blob/main/07Project_video_processing_ai/%D0%93%D0%B5%D0%BD%D0%B5%D1%80%D0%B0%D1%86%D0%B8%D1%8F_%D0%B2%D0%B8%D0%B4%D0%B5%D0%BE.ipynb\" target=\"_parent\"><img src=\"https://colab.research.google.com/assets/colab-badge.svg\" alt=\"Open In Colab\"/></a>"
      ]
    },
    {
      "cell_type": "markdown",
      "source": [
        "# Библиотеки"
      ],
      "metadata": {
        "id": "omi4PnzKMA9-"
      }
    },
    {
      "cell_type": "code",
      "source": [
        "!pip install requests\n",
        "!pip install moviepy"
      ],
      "metadata": {
        "id": "-ctEThowe2lB"
      },
      "execution_count": null,
      "outputs": []
    },
    {
      "cell_type": "code",
      "source": [
        "# Импорт модулей\n",
        "import requests\n",
        "import os\n",
        "from moviepy.editor import VideoFileClip, CompositeVideoClip, ImageClip"
      ],
      "metadata": {
        "id": "yjmCnBfFiVu7"
      },
      "execution_count": null,
      "outputs": []
    },
    {
      "cell_type": "markdown",
      "source": [
        "# Код"
      ],
      "metadata": {
        "id": "mj-mZQsmMEya"
      }
    },
    {
      "cell_type": "code",
      "source": [
        "# Настройки\n",
        "PIXABAY_API_KEY = '47304130-4b574d966d6ab0671cc18abfa'  # Замените на ваш API ключ\n",
        "\n",
        "search_query = 'Data Scientist'  # Ваш поисковый запрос\n",
        "per_page = 3  # Количество видео для загрузки\n",
        "\n",
        "logo_path = '/content/google.png'  # Путь к вашему логотипу\n",
        "\n",
        "# Функции\n",
        "def download_pixabay_videos(query, per_page=3):\n",
        "    url = 'https://pixabay.com/api/videos/'\n",
        "\n",
        "    params = {\n",
        "        'key': PIXABAY_API_KEY,\n",
        "        'q': query,\n",
        "        'per_page': per_page,\n",
        "        'safesearch': 'true'\n",
        "    }\n",
        "\n",
        "    response = requests.get(url, params=params)\n",
        "    if response.status_code == 200:\n",
        "        videos = response.json()['hits']\n",
        "        video_paths = []\n",
        "        for idx, video in enumerate(videos):\n",
        "            # Выбираем видео с наилучшим качеством\n",
        "            video_files = video['videos']\n",
        "            if 'large' in video_files:\n",
        "                video_url = video_files['large']['url']\n",
        "            elif 'medium' in video_files:\n",
        "                video_url = video_files['medium']['url']\n",
        "            else:\n",
        "                video_url = video_files['small']['url']\n",
        "\n",
        "            video_response = requests.get(video_url)\n",
        "            video_filename = f'video_{idx}.mp4'\n",
        "            with open(video_filename, 'wb') as f:\n",
        "                f.write(video_response.content)\n",
        "            video_paths.append(video_filename)\n",
        "        return video_paths\n",
        "    else:\n",
        "        print('Ошибка при запросе к Pixabay API:', response.status_code)\n",
        "        return []\n",
        "\n",
        "def overlay_logo_on_video(video_path, logo_path, output_path):\n",
        "    # Загрузка видео\n",
        "    video_clip = VideoFileClip(video_path)\n",
        "\n",
        "    # Проверка наличия аудио (для избежания предупреждений)\n",
        "    if video_clip.audio is None:\n",
        "        video_clip = video_clip.set_audio(None)\n",
        "\n",
        "    # Загрузка логотипа\n",
        "    logo = (ImageClip(logo_path)\n",
        "            .set_duration(video_clip.duration)\n",
        "            .resize(height=100)  # Измените размер логотипа при необходимости\n",
        "            .margin(right=8, top=8, opacity=0)  # Отступы\n",
        "            .set_pos((\"right\", \"top\")))  # Позиция логотипа\n",
        "\n",
        "    # Наложение логотипа на видео\n",
        "    final_video = CompositeVideoClip([video_clip, logo])\n",
        "\n",
        "    # Сохранение итогового видео\n",
        "    final_video.write_videofile(output_path, codec='libx264', audio_codec='aac')\n",
        "\n",
        "    # Освобождение ресурсов\n",
        "    video_clip.close()\n",
        "    final_video.close()\n",
        "\n",
        "# Основной процесс\n",
        "\n",
        "video_paths = download_pixabay_videos(search_query, per_page)\n",
        "\n",
        "if video_paths:\n",
        "    for video_path in video_paths:\n",
        "        output_path = f'logo_{video_path}'\n",
        "        overlay_logo_on_video(video_path, logo_path, output_path)\n",
        "        print(f'Видео с наложенным логотипом сохранено: {output_path}')\n",
        "else:\n",
        "    print('Не удалось скачать видео.')"
      ],
      "metadata": {
        "id": "xqNabZVcMHNl"
      },
      "execution_count": null,
      "outputs": []
    },
    {
      "cell_type": "markdown",
      "source": [
        "# Совмещение"
      ],
      "metadata": {
        "id": "H2H3viyoMGis"
      }
    },
    {
      "cell_type": "code",
      "source": [
        "# Импорт модулей\n",
        "from moviepy.editor import VideoFileClip, clips_array\n",
        "\n",
        "# Настройки\n",
        "video_paths = ['/content/logo_video_0.mp4', '/content/logo_video_1.mp4', '/content/logo_video_2.mp4']  # Замените на ваши файлы\n",
        "output_path = 'merged_video.mp4'\n",
        "\n",
        "# Загружаем видеофайлы\n",
        "video_clips = [VideoFileClip(video) for video in video_paths]\n",
        "\n",
        "target_size = (640, 360)  # Задайте нужный размер\n",
        "resized_clips = [clip.resize(target_size) for clip in video_clips]\n",
        "\n",
        "# Объединяем видео в один кадр (в ряд)\n",
        "final_clip = clips_array([resized_clips])\n",
        "\n",
        "# Сохраняем итоговое видео\n",
        "final_clip.write_videofile(output_path, codec='libx264', audio_codec='aac')\n",
        "\n",
        "# Освобождаем ресурсы\n",
        "for clip in resized_clips:\n",
        "    clip.close()\n",
        "final_clip.close()\n",
        "\n",
        "print(f'Итоговое видео сохранено как {output_path}')"
      ],
      "metadata": {
        "id": "_zGbkiiuMJ7R"
      },
      "execution_count": null,
      "outputs": []
    }
  ]
}